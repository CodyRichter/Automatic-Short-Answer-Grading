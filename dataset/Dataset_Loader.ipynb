{
  "nbformat": 4,
  "nbformat_minor": 0,
  "metadata": {
    "colab": {
      "name": "Dataset Loader.ipynb",
      "provenance": [],
      "collapsed_sections": []
    },
    "kernelspec": {
      "name": "python3",
      "display_name": "Python 3"
    },
    "language_info": {
      "name": "python"
    }
  },
  "cells": [
    {
      "cell_type": "markdown",
      "source": [
        "# Project Dataset Loading"
      ],
      "metadata": {
        "id": "0UnfUwvwN5W6"
      }
    },
    {
      "cell_type": "code",
      "source": [
        "# Clone the dataset repository from github\n",
        "!git clone https://github.com/CodyRichter/Automatic-Short-Answer-Grading"
      ],
      "metadata": {
        "colab": {
          "base_uri": "https://localhost:8080/"
        },
        "id": "dQKdp7p4_ZUg",
        "outputId": "cb3fa75d-2e5b-469d-eb89-9c6dac5a3994"
      },
      "execution_count": null,
      "outputs": [
        {
          "output_type": "stream",
          "name": "stdout",
          "text": [
            "fatal: destination path 'Automatic-Short-Answer-Grading' already exists and is not an empty directory.\n"
          ]
        }
      ]
    },
    {
      "cell_type": "code",
      "source": [
        "import json\n",
        "\n",
        "with open('/content/Automatic-Short-Answer-Grading/dataset/train.json', 'r') as tf:\n",
        "  training_data = json.load(tf)\n",
        "\n",
        "with open('/content/Automatic-Short-Answer-Grading/dataset/test-unseen-answers.json', 'r') as tf:\n",
        "  test_unseen_answer_data = json.load(tf)\n",
        "\n",
        "with open('/content/Automatic-Short-Answer-Grading/dataset/test-unseen-questions.json', 'r') as tf:\n",
        "  test_unseen_question_data = json.load(tf)\n",
        "\n",
        "with open('/content/Automatic-Short-Answer-Grading/dataset/test-unseen-domains.json', 'r') as tf:\n",
        "  test_unseen_domain_data = json.load(tf)\n",
        "\n",
        "print('Number of Training Data Responses', len(training_data))\n",
        "print('Number of Test Data (New Answer) Responses', len(test_unseen_answer_data))\n",
        "print('Number of Test Data (New Question) Responses', len(test_unseen_question_data))\n",
        "print('Number of Test Data (New Domain) Responses', len(test_unseen_domain_data))"
      ],
      "metadata": {
        "id": "wg4HJSXW_ZXZ",
        "colab": {
          "base_uri": "https://localhost:8080/"
        },
        "outputId": "e5d74a3a-7b7b-474d-8a97-a75b6fff1c92"
      },
      "execution_count": null,
      "outputs": [
        {
          "output_type": "stream",
          "name": "stdout",
          "text": [
            "Number of Training Data Responses 8901\n",
            "Number of Test Data (New Answer) Responses 540\n",
            "Number of Test Data (New Question) Responses 733\n",
            "Number of Test Data (New Domain) Responses 4562\n"
          ]
        }
      ]
    },
    {
      "cell_type": "code",
      "source": [
        "class ShortAnswerGradingDataset(Dataset):\n",
        "    def __init__(self, dataset):\n",
        "        self.dataset = dataset\n",
        "\n",
        "    def __len__(self):\n",
        "        return len(self.dataset)\n",
        "\n",
        "    def __getitem__(self, idx):\n",
        "        # Note: I handle the parsing in the data loading from XML section\n",
        "        # Returns a dict for each item with the following keys: 'question', 'ref', 'response', 'score' all of type 'str'\n",
        "        return self.dataset[idx]"
      ],
      "metadata": {
        "id": "GE1wyg4kAUwB"
      },
      "execution_count": null,
      "outputs": []
    },
    {
      "cell_type": "code",
      "source": [
        "training_dataset = ShortAnswerGradingDataset(training_data)\n",
        "test_dataset_unseen_answers = ShortAnswerGradingDataset(test_unseen_answer_data)\n",
        "test_dataset_unseen_questions = ShortAnswerGradingDataset(test_unseen_question_data)\n",
        "test_dataset_unseen_domains = ShortAnswerGradingDataset(test_unseen_domain_data)"
      ],
      "metadata": {
        "id": "MHkQGLsLEalY"
      },
      "execution_count": null,
      "outputs": []
    },
    {
      "cell_type": "markdown",
      "source": [
        "## Viewing Samples in Dataset"
      ],
      "metadata": {
        "id": "5ds1t-pzQJ3u"
      }
    },
    {
      "cell_type": "code",
      "source": [
        "for idx, training_item in enumerate(training_dataset):\n",
        "  print(training_item)\n",
        "  if idx == 10:\n",
        "    break"
      ],
      "metadata": {
        "colab": {
          "base_uri": "https://localhost:8080/"
        },
        "id": "xhEub_c-T6cv",
        "outputId": "903d67b4-4af3-4b97-c32f-63f98303d3a9"
      },
      "execution_count": null,
      "outputs": [
        {
          "output_type": "stream",
          "name": "stdout",
          "text": [
            "{'question': 'Look at the finger patterns below, then answer the questions. What is the same about the finger patterns?', 'ref': 'Both finger patterns are loops.', 'response': 'One is a loop and the other is an arc.', 'score': 'incorrect', 'aug': True}\n",
            "{'question': 'Look at the finger patterns below, then answer the questions. What is the same about the finger patterns?', 'ref': 'Both finger patterns are loops.', 'response': 'The two finer patterns are loops.', 'score': 'correct', 'aug': True}\n",
            "{'question': 'Look at the finger patterns below, then answer the questions. What is the same about the finger patterns?', 'ref': 'Both finger patterns are loops.', 'response': 'They are the same loop.', 'score': 'correct', 'aug': True}\n",
            "{'question': 'Look at the finger patterns below, then answer the questions. What is the same about the finger patterns?', 'ref': 'Both finger patterns are loops.', 'response': 'Circle.', 'score': 'correct', 'aug': True}\n",
            "{'question': 'Look at the finger patterns below, then answer the questions. What is the same about the finger patterns?', 'ref': 'Both finger patterns are loops.', 'response': 'both loops.', 'score': 'correct', 'aug': True}\n",
            "{'question': 'Look at the finger patterns below, then answer the questions. What is the same about the finger patterns?', 'ref': 'Both finger patterns are loops.', 'response': 'they are loops.', 'score': 'correct', 'aug': True}\n",
            "{'question': 'Look at the finger patterns below, then answer the questions. What is the same about the finger patterns?', 'ref': 'Both finger patterns are loops.', 'response': 'They both loop.', 'score': 'correct', 'aug': True}\n",
            "{'question': 'Look at the finger patterns below, then answer the questions. What is the same about the finger patterns?', 'ref': 'Both finger patterns are loops.', 'response': 'Its shape is the same.', 'score': 'incorrect', 'aug': True}\n",
            "{'question': 'Look at the finger patterns below, then answer the questions. What is the same about the finger patterns?', 'ref': 'Both finger patterns are loops.', 'response': 'They are both bows.', 'score': 'incorrect', 'aug': True}\n",
            "{'question': 'Look at the finger patterns below, then answer the questions. What is the same about the finger patterns?', 'ref': 'Both finger patterns are loops.', 'response': \"It's the same because it has loops.\", 'score': 'correct', 'aug': True}\n",
            "{'question': 'Look at the finger patterns below, then answer the questions. What is the same about the finger patterns?', 'ref': 'Both finger patterns are loops.', 'response': 'Both finger points have a loop.', 'score': 'correct', 'aug': True}\n"
          ]
        }
      ]
    },
    {
      "cell_type": "code",
      "source": [
        "for idx, test_item in enumerate(test_dataset_unseen_answers):\n",
        "  print(test_item)\n",
        "  if idx == 10:\n",
        "    break"
      ],
      "metadata": {
        "colab": {
          "base_uri": "https://localhost:8080/"
        },
        "id": "iWHGGpQ3Hs27",
        "outputId": "927aeb92-0a97-4236-f50b-b281fc146d11"
      },
      "execution_count": null,
      "outputs": [
        {
          "output_type": "stream",
          "name": "stdout",
          "text": [
            "{'question': 'Look at the finger patterns below, then answer the questions. What is the same about the finger patterns?', 'ref': 'Both finger patterns are loops.', 'response': 'They are both loops.', 'score': 'correct', 'aug': False}\n",
            "{'question': 'Look at the finger patterns below, then answer the questions. What is the same about the finger patterns?', 'ref': 'Both finger patterns are loops.', 'response': 'They are loops.', 'score': 'correct', 'aug': False}\n",
            "{'question': 'Look at the finger patterns below, then answer the questions. What is the same about the finger patterns?', 'ref': 'Both finger patterns are loops.', 'response': 'They both have a whorl.', 'score': 'incorrect', 'aug': False}\n",
            "{'question': 'Look at the finger patterns below, then answer the questions. What is the same about the finger patterns?', 'ref': 'Both finger patterns are loops.', 'response': 'They are both arches.', 'score': 'incorrect', 'aug': False}\n",
            "{'question': 'Why does a rubber band make a sound when you pluck it (pull and let go quickly)?', 'ref': 'The rubber band vibrates.', 'response': 'Because the vibration makes it.', 'score': 'correct', 'aug': False}\n",
            "{'question': 'Why does a rubber band make a sound when you pluck it (pull and let go quickly)?', 'ref': 'The rubber band vibrates.', 'response': 'Because it vibrates.', 'score': 'correct', 'aug': False}\n",
            "{'question': 'Why does a rubber band make a sound when you pluck it (pull and let go quickly)?', 'ref': 'The rubber band vibrates.', 'response': 'Because it is made rubber.', 'score': 'incorrect', 'aug': False}\n",
            "{'question': 'Why does a rubber band make a sound when you pluck it (pull and let go quickly)?', 'ref': 'The rubber band vibrates.', 'response': 'A rubber band make a sound by vibration when you pluck it, so that is how it cause the sound.', 'score': 'correct', 'aug': False}\n",
            "{'question': 'Look at the picture of the bean seedling shortly after germination. Describe the function of each of the parts: cotyledon.', 'ref': 'The cotyledon provides food for the plant until the plant can make food for itself.', 'response': 'To give food to the baby plant.', 'score': 'correct', 'aug': False}\n",
            "{'question': 'Look at the picture of the bean seedling shortly after germination. Describe the function of each of the parts: cotyledon.', 'ref': 'The cotyledon provides food for the plant until the plant can make food for itself.', 'response': 'It holds food for the plant before the roots grow.', 'score': 'correct', 'aug': False}\n",
            "{'question': 'Look at the picture of the bean seedling shortly after germination. Describe the function of each of the parts: cotyledon.', 'ref': 'The cotyledon provides food for the plant until the plant can make food for itself.', 'response': 'Food storage.', 'score': 'incorrect', 'aug': False}\n"
          ]
        }
      ]
    },
    {
      "cell_type": "code",
      "source": [
        "for idx, test_item in enumerate(test_dataset_unseen_questions):\n",
        "  print(test_item)\n",
        "  if idx == 10:\n",
        "    break"
      ],
      "metadata": {
        "colab": {
          "base_uri": "https://localhost:8080/"
        },
        "id": "wZ9YaCNBHtAM",
        "outputId": "a03b6310-4630-4047-e960-79cb7641cb37"
      },
      "execution_count": null,
      "outputs": [
        {
          "output_type": "stream",
          "name": "stdout",
          "text": [
            "{'question': 'You used 3 scratch tools in class to test minerals for hardness: your fingernail, a penny, and a paperclip. If a mineral can be scratched by a penny, you can be sure that a (paperclip) will also scratch it. Explain how you know that tool would scratch the mineral.', 'ref': 'A paperclip is harder than a penny, so if a penny can scratch a mineral, a paperclip can also scratch the mineral.', 'response': 'I know the paperclip would scratch it because a paperclip is harder than a penny.', 'score': 'correct', 'aug': False}\n",
            "{'question': 'You used 3 scratch tools in class to test minerals for hardness: your fingernail, a penny, and a paperclip. If a mineral can be scratched by a penny, you can be sure that a (paperclip) will also scratch it. Explain how you know that tool would scratch the mineral.', 'ref': 'A paperclip is harder than a penny, so if a penny can scratch a mineral, a paperclip can also scratch the mineral.', 'response': 'I knew that because the paperclip is harder than the penny.', 'score': 'correct', 'aug': False}\n",
            "{'question': 'You used 3 scratch tools in class to test minerals for hardness: your fingernail, a penny, and a paperclip. If a mineral can be scratched by a penny, you can be sure that a (paperclip) will also scratch it. Explain how you know that tool would scratch the mineral.', 'ref': 'A paperclip is harder than a penny, so if a penny can scratch a mineral, a paperclip can also scratch the mineral.', 'response': 'I know that the paperclip would scratch the mineral because a paperclip is harder than a penny.', 'score': 'correct', 'aug': False}\n",
            "{'question': 'You used 3 scratch tools in class to test minerals for hardness: your fingernail, a penny, and a paperclip. If a mineral can be scratched by a penny, you can be sure that a (paperclip) will also scratch it. Explain how you know that tool would scratch the mineral.', 'ref': 'A paperclip is harder than a penny, so if a penny can scratch a mineral, a paperclip can also scratch the mineral.', 'response': 'Because the paperclip is an easier item to scratch a rock or mineral than a penny.', 'score': 'incorrect', 'aug': False}\n",
            "{'question': 'You used 3 scratch tools in class to test minerals for hardness: your fingernail, a penny, and a paperclip. If a mineral can be scratched by a penny, you can be sure that a (paperclip) will also scratch it. Explain how you know that tool would scratch the mineral.', 'ref': 'A paperclip is harder than a penny, so if a penny can scratch a mineral, a paperclip can also scratch the mineral.', 'response': 'I know that a paperclip will scratch it because it is the hardest tool that we used out of a fingernail, penny and paperclip.', 'score': 'correct', 'aug': False}\n",
            "{'question': 'You used 3 scratch tools in class to test minerals for hardness: your fingernail, a penny, and a paperclip. If a mineral can be scratched by a penny, you can be sure that a (paperclip) will also scratch it. Explain how you know that tool would scratch the mineral.', 'ref': 'A paperclip is harder than a penny, so if a penny can scratch a mineral, a paperclip can also scratch the mineral.', 'response': 'I know because the paperclip is a harder tool so if a softer tool can scratch it so can the paperclip.', 'score': 'correct', 'aug': False}\n",
            "{'question': 'You used 3 scratch tools in class to test minerals for hardness: your fingernail, a penny, and a paperclip. If a mineral can be scratched by a penny, you can be sure that a (paperclip) will also scratch it. Explain how you know that tool would scratch the mineral.', 'ref': 'A paperclip is harder than a penny, so if a penny can scratch a mineral, a paperclip can also scratch the mineral.', 'response': 'The paperclip can scratch the penny and the penny cannot scratch the paperclip so the paperclip is harder.', 'score': 'correct', 'aug': False}\n",
            "{'question': 'You used 3 scratch tools in class to test minerals for hardness: your fingernail, a penny, and a paperclip. If a mineral can be scratched by a penny, you can be sure that a (paperclip) will also scratch it. Explain how you know that tool would scratch the mineral.', 'ref': 'A paperclip is harder than a penny, so if a penny can scratch a mineral, a paperclip can also scratch the mineral.', 'response': 'You can scratch the penny with the paperclip so the penny is softer and if the penny could scratch the paperclip can scratch it.', 'score': 'correct', 'aug': False}\n",
            "{'question': 'You used 3 scratch tools in class to test minerals for hardness: your fingernail, a penny, and a paperclip. If a mineral can be scratched by a penny, you can be sure that a (paperclip) will also scratch it. Explain how you know that tool would scratch the mineral.', 'ref': 'A paperclip is harder than a penny, so if a penny can scratch a mineral, a paperclip can also scratch the mineral.', 'response': 'A paperclip is harder because we scratched the penny with the paperclip. The penny got a scratch.', 'score': 'correct', 'aug': False}\n",
            "{'question': 'You used 3 scratch tools in class to test minerals for hardness: your fingernail, a penny, and a paperclip. If a mineral can be scratched by a penny, you can be sure that a (paperclip) will also scratch it. Explain how you know that tool would scratch the mineral.', 'ref': 'A paperclip is harder than a penny, so if a penny can scratch a mineral, a paperclip can also scratch the mineral.', 'response': 'I know because a paperclip is harder than the penny. I figured that out by scratching the penny with the paperclip and it was harder.', 'score': 'correct', 'aug': False}\n",
            "{'question': 'You used 3 scratch tools in class to test minerals for hardness: your fingernail, a penny, and a paperclip. If a mineral can be scratched by a penny, you can be sure that a (paperclip) will also scratch it. Explain how you know that tool would scratch the mineral.', 'ref': 'A paperclip is harder than a penny, so if a penny can scratch a mineral, a paperclip can also scratch the mineral.', 'response': 'I know because a penny is softer than a paperclip.', 'score': 'correct', 'aug': False}\n"
          ]
        }
      ]
    },
    {
      "cell_type": "code",
      "source": [
        "for idx, test_item in enumerate(test_dataset_unseen_domains):\n",
        "  print(test_item)\n",
        "  if idx == 10:\n",
        "    break"
      ],
      "metadata": {
        "colab": {
          "base_uri": "https://localhost:8080/"
        },
        "id": "rlE2t4CRHtEL",
        "outputId": "da7158c4-5d78-49c7-d9d3-7b1896695a6b"
      },
      "execution_count": null,
      "outputs": [
        {
          "output_type": "stream",
          "name": "stdout",
          "text": [
            "{'question': 'Ron covered his notebook with waxed paper. Then he placed a small drop of water in the middle of the notebook as shown in the picture. Even though the drop was on a slope, the drop stayed where he placed it. Describe 2 ways Ron can make the water move down the notebook without pushing the drop or blowing on it.', 'ref': 'Ron could make the drop bigger. Ron could make the slope steeper.', 'response': 'Putting more water in the drop.', 'score': 'correct', 'aug': False}\n",
            "{'question': 'Ron covered his notebook with waxed paper. Then he placed a small drop of water in the middle of the notebook as shown in the picture. Even though the drop was on a slope, the drop stayed where he placed it. Describe 2 ways Ron can make the water move down the notebook without pushing the drop or blowing on it.', 'ref': 'Ron could make the drop bigger. Ron could make the slope steeper.', 'response': 'Slant it a little more because if it is not slanted enough it will not move down.', 'score': 'correct', 'aug': False}\n",
            "{'question': 'Ron covered his notebook with waxed paper. Then he placed a small drop of water in the middle of the notebook as shown in the picture. Even though the drop was on a slope, the drop stayed where he placed it. Describe 2 ways Ron can make the water move down the notebook without pushing the drop or blowing on it.', 'ref': 'Ron could make the drop bigger. Ron could make the slope steeper.', 'response': 'Ron put 2 dictionaries under your book.', 'score': 'correct', 'aug': False}\n",
            "{'question': 'Ron covered his notebook with waxed paper. Then he placed a small drop of water in the middle of the notebook as shown in the picture. Even though the drop was on a slope, the drop stayed where he placed it. Describe 2 ways Ron can make the water move down the notebook without pushing the drop or blowing on it.', 'ref': 'Ron could make the drop bigger. Ron could make the slope steeper.', 'response': 'He can tilt it more.', 'score': 'correct', 'aug': False}\n",
            "{'question': 'Ron covered his notebook with waxed paper. Then he placed a small drop of water in the middle of the notebook as shown in the picture. Even though the drop was on a slope, the drop stayed where he placed it. Describe 2 ways Ron can make the water move down the notebook without pushing the drop or blowing on it.', 'ref': 'Ron could make the drop bigger. Ron could make the slope steeper.', 'response': 'He can put another drop of water on top of the other one.', 'score': 'correct', 'aug': False}\n",
            "{'question': 'Ron covered his notebook with waxed paper. Then he placed a small drop of water in the middle of the notebook as shown in the picture. Even though the drop was on a slope, the drop stayed where he placed it. Describe 2 ways Ron can make the water move down the notebook without pushing the drop or blowing on it.', 'ref': 'Ron could make the drop bigger. Ron could make the slope steeper.', 'response': 'You put a fat book on a the bottom of a it to make it go down.', 'score': 'correct', 'aug': False}\n",
            "{'question': 'Ron covered his notebook with waxed paper. Then he placed a small drop of water in the middle of the notebook as shown in the picture. Even though the drop was on a slope, the drop stayed where he placed it. Describe 2 ways Ron can make the water move down the notebook without pushing the drop or blowing on it.', 'ref': 'Ron could make the drop bigger. Ron could make the slope steeper.', 'response': 'Ron could take out about 2 or 3 papers to make the slope steeper.', 'score': 'correct', 'aug': False}\n",
            "{'question': 'Ron covered his notebook with waxed paper. Then he placed a small drop of water in the middle of the notebook as shown in the picture. Even though the drop was on a slope, the drop stayed where he placed it. Describe 2 ways Ron can make the water move down the notebook without pushing the drop or blowing on it.', 'ref': 'Ron could make the drop bigger. Ron could make the slope steeper.', 'response': 'Ron could add more water to the notebook because a small drop, like Ron has does not flow down a slope that fast, a bigger drop goes faster.', 'score': 'correct', 'aug': False}\n",
            "{'question': 'Ron covered his notebook with waxed paper. Then he placed a small drop of water in the middle of the notebook as shown in the picture. Even though the drop was on a slope, the drop stayed where he placed it. Describe 2 ways Ron can make the water move down the notebook without pushing the drop or blowing on it.', 'ref': 'Ron could make the drop bigger. Ron could make the slope steeper.', 'response': 'He could take all the paper out. Because than the slant would push the water down.', 'score': 'correct', 'aug': False}\n",
            "{'question': 'Ron covered his notebook with waxed paper. Then he placed a small drop of water in the middle of the notebook as shown in the picture. Even though the drop was on a slope, the drop stayed where he placed it. Describe 2 ways Ron can make the water move down the notebook without pushing the drop or blowing on it.', 'ref': 'Ron could make the drop bigger. Ron could make the slope steeper.', 'response': 'One way he can do it is making the notebook steeper.', 'score': 'correct', 'aug': False}\n",
            "{'question': 'Ron covered his notebook with waxed paper. Then he placed a small drop of water in the middle of the notebook as shown in the picture. Even though the drop was on a slope, the drop stayed where he placed it. Describe 2 ways Ron can make the water move down the notebook without pushing the drop or blowing on it.', 'ref': 'Ron could make the drop bigger. Ron could make the slope steeper.', 'response': 'Ron could of put one or 2 books under his notebook and make it steeper the water would go down.', 'score': 'correct', 'aug': False}\n"
          ]
        }
      ]
    }
  ]
}